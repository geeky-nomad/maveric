{
 "cells": [
  {
   "cell_type": "code",
   "execution_count": 44,
   "id": "2c125027-f3de-46a9-ba26-1c9cd8bdb733",
   "metadata": {
    "editable": true,
    "slideshow": {
     "slide_type": ""
    },
    "tags": []
   },
   "outputs": [],
   "source": [
    "import pandas as pd\n",
    "\n",
    "df = pd.read_csv('acsi_booking.csv')\n",
    "df['combined_features'] = df['campsite_name'] + ' ' + df['price'].astype(str) + ' ' + df['region']"
   ]
  },
  {
   "cell_type": "code",
   "execution_count": 45,
   "id": "6b7c1e55-508f-4c56-9cf5-c8fde36db9c5",
   "metadata": {},
   "outputs": [],
   "source": [
    "from sentence_transformers import SentenceTransformer\n",
    "\n",
    "model = SentenceTransformer('all-MiniLM-L6-v2')\n",
    "embeddings = model.encode(df['combined_features'].tolist())"
   ]
  },
  {
   "cell_type": "code",
   "execution_count": 46,
   "id": "4efc2aff-628d-40c1-a829-4adeb7f20d61",
   "metadata": {},
   "outputs": [],
   "source": [
    "import faiss\n",
    "\n",
    "index = faiss.IndexFlatL2(embeddings.shape[1])\n",
    "index.add(embeddings)"
   ]
  },
  {
   "cell_type": "code",
   "execution_count": 47,
   "id": "a8567886-887a-48ec-9824-53543be32be5",
   "metadata": {},
   "outputs": [],
   "source": [
    "import re\n",
    "\n",
    "def parse_price_constraints(query):\n",
    "    price_constraints = {}\n",
    "    less_than = re.search(r'less than (\\d+)', query)\n",
    "    more_than = re.search(r'more than (\\d+)', query)\n",
    "    between = re.search(r'between (\\d+) and (\\d+)', query)\n",
    "    \n",
    "    if less_than:\n",
    "        price_constraints['less_than'] = int(less_than.group(1))\n",
    "    if more_than:\n",
    "        price_constraints['more_than'] = int(more_than.group(1))\n",
    "    if between:\n",
    "        price_constraints['between'] = (int(between.group(1)), int(between.group(2)))\n",
    "    \n",
    "    return price_constraints\n",
    "\n",
    "def filter_by_price(df, constraints):\n",
    "    if 'less_than' in constraints:\n",
    "        df = df[df['price'] < constraints['less_than']]\n",
    "    if 'more_than' in constraints:\n",
    "        df = df[df['price'] > constraints['more_than']]\n",
    "    if 'between' in constraints:\n",
    "        df = df[(df['price'] >= constraints['between'][0]) & (df['price'] <= constraints['between'][1])]\n",
    "    \n",
    "    return df\n"
   ]
  },
  {
   "cell_type": "code",
   "execution_count": 48,
   "id": "d18197ba-d22e-4ec9-a424-b91f345e583a",
   "metadata": {
    "editable": true,
    "slideshow": {
     "slide_type": "slide"
    },
    "tags": []
   },
   "outputs": [],
   "source": [
    "def search_products(query, top_k=2):\n",
    "    query_embedding = model.encode([query])\n",
    "    D, I = index.search(query_embedding, top_k)\n",
    "    results = df.iloc[I[0]]\n",
    "    return results"
   ]
  },
  {
   "cell_type": "code",
   "execution_count": null,
   "id": "02912345-9713-4dbf-9780-0a67abb7b110",
   "metadata": {},
   "outputs": [],
   "source": [
    "def search_products_with_price(query, top_k=2):\n",
    "    constraints = parse_price_constraints(query)\n",
    "    filtered_df = filter_by_price(df, constraints)\n",
    "    \n",
    "    if not filtered_df.empty:\n",
    "        filtered_embeddings = model.encode(filtered_df['combined_features'].tolist())\n",
    "        filtered_index = faiss.IndexFlatL2(filtered_embeddings.shape[1])\n",
    "        filtered_index.add(filtered_embeddings)\n",
    "        \n",
    "        query_embedding = model.encode([query])\n",
    "        D, I = filtered_index.search(query_embedding, top_k)\n",
    "        results = filtered_df.iloc[I[0]]\n",
    "    else:\n",
    "        query_embedding = model.encode([query])\n",
    "        D, I = index.search(query_embedding, top_k)\n",
    "        results = df.iloc[I[0]]\n",
    "    \n",
    "    return results\n",
    "\n",
    "# test the product_search\n",
    "print(search_products_with_price('show me some campsites from germany'))"
   ]
  }
 ],
 "metadata": {
  "kernelspec": {
   "display_name": "Python 3 (ipykernel)",
   "language": "python",
   "name": "python3"
  },
  "language_info": {
   "codemirror_mode": {
    "name": "ipython",
    "version": 3
   },
   "file_extension": ".py",
   "mimetype": "text/x-python",
   "name": "python",
   "nbconvert_exporter": "python",
   "pygments_lexer": "ipython3",
   "version": "3.11.9"
  }
 },
 "nbformat": 4,
 "nbformat_minor": 5
}
