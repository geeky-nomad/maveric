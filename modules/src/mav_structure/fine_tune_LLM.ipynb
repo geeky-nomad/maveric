{
 "cells": [
  {
   "cell_type": "code",
   "execution_count": 1,
   "id": "f238946e-1f2a-4753-90f6-3d3d3f1b9ffd",
   "metadata": {},
   "outputs": [],
   "source": [
    "import pandas as pd\n",
    "from sklearn.model_selection import train_test_split\n",
    "from datasets import Dataset\n",
    "from transformers import AutoModelForCausalLM, Trainer, TrainingArguments, AutoTokenizer"
   ]
  },
  {
   "cell_type": "code",
   "execution_count": 9,
   "id": "121b1fcb-1425-4bdd-9071-1a7ae5ff2958",
   "metadata": {},
   "outputs": [],
   "source": [
    "# Load your dataset with the correct delimiter\n",
    "df = pd.read_csv('chit_chat.csv', delimiter=';')\n",
    "\n",
    "# Ensure that the columns are named correctly\n",
    "df.columns = ['input', 'response']\n",
    "\n",
    "# Split the dataset into training and validation sets\n",
    "train_df, val_df = train_test_split(df, test_size=0.1, random_state=42)\n",
    "\n",
    "# Convert DataFrames to Hugging Face Datasets\n",
    "train_dataset = Dataset.from_pandas(train_df)\n",
    "val_dataset = Dataset.from_pandas(val_df)"
   ]
  },
  {
   "cell_type": "code",
   "execution_count": 10,
   "id": "1ae9f6cc-760a-4427-ab30-12e8c7b136f9",
   "metadata": {},
   "outputs": [
    {
     "name": "stderr",
     "output_type": "stream",
     "text": [
      "huggingface/tokenizers: The current process just got forked, after parallelism has already been used. Disabling parallelism to avoid deadlocks...\n",
      "To disable this warning, you can either:\n",
      "\t- Avoid using `tokenizers` before the fork if possible\n",
      "\t- Explicitly set the environment variable TOKENIZERS_PARALLELISM=(true | false)\n"
     ]
    },
    {
     "data": {
      "application/vnd.jupyter.widget-view+json": {
       "model_id": "0d01f40f1fd34967b1c50b0c448d7129",
       "version_major": 2,
       "version_minor": 0
      },
      "text/plain": [
       "Map:   0%|          | 0/6 [00:00<?, ? examples/s]"
      ]
     },
     "metadata": {},
     "output_type": "display_data"
    },
    {
     "name": "stderr",
     "output_type": "stream",
     "text": [
      "/Users/prakashsingh/DEV/personal/maveric-chatbot/env/lib/python3.11/site-packages/transformers/tokenization_utils_base.py:4144: UserWarning: `as_target_tokenizer` is deprecated and will be removed in v5 of Transformers. You can tokenize your labels by using the argument `text_target` of the regular `__call__` method (either in the same call as your input texts if you use the same keyword arguments, or in a separate call.\n",
      "  warnings.warn(\n"
     ]
    },
    {
     "data": {
      "application/vnd.jupyter.widget-view+json": {
       "model_id": "26512df0180440c8804d11601e2249a5",
       "version_major": 2,
       "version_minor": 0
      },
      "text/plain": [
       "Map:   0%|          | 0/1 [00:00<?, ? examples/s]"
      ]
     },
     "metadata": {},
     "output_type": "display_data"
    }
   ],
   "source": [
    "tokenizer = AutoTokenizer.from_pretrained(\"microsoft/DialoGPT-medium\")\n",
    "\n",
    "# Set padding token to be the same as the end-of-sequence token\n",
    "if tokenizer.pad_token is None:\n",
    "    tokenizer.pad_token = tokenizer.eos_token\n",
    "\n",
    "def preprocess_function(examples):\n",
    "    inputs = examples['input']\n",
    "    targets = examples['response']\n",
    "    model_inputs = tokenizer(inputs, max_length=128, truncation=True, padding=\"max_length\")\n",
    "\n",
    "    with tokenizer.as_target_tokenizer():\n",
    "        labels = tokenizer(targets, max_length=128, truncation=True, padding=\"max_length\")\n",
    "\n",
    "    model_inputs[\"labels\"] = labels[\"input_ids\"]\n",
    "    return model_inputs\n",
    "\n",
    "# Apply tokenization\n",
    "tokenized_train_dataset = train_dataset.map(preprocess_function, batched=True)\n",
    "tokenized_val_dataset = val_dataset.map(preprocess_function, batched=True)\n"
   ]
  },
  {
   "cell_type": "code",
   "execution_count": 11,
   "id": "e45e2c58-2c0c-4b34-91c4-d901bc2046ed",
   "metadata": {},
   "outputs": [
    {
     "name": "stderr",
     "output_type": "stream",
     "text": [
      "/Users/prakashsingh/DEV/personal/maveric-chatbot/env/lib/python3.11/site-packages/transformers/training_args.py:1525: FutureWarning: `evaluation_strategy` is deprecated and will be removed in version 4.46 of 🤗 Transformers. Use `eval_strategy` instead\n",
      "  warnings.warn(\n"
     ]
    },
    {
     "data": {
      "text/html": [
       "\n",
       "    <div>\n",
       "      \n",
       "      <progress value='10' max='10' style='width:300px; height:20px; vertical-align: middle;'></progress>\n",
       "      [10/10 00:48, Epoch 5/5]\n",
       "    </div>\n",
       "    <table border=\"1\" class=\"dataframe\">\n",
       "  <thead>\n",
       " <tr style=\"text-align: left;\">\n",
       "      <th>Epoch</th>\n",
       "      <th>Training Loss</th>\n",
       "      <th>Validation Loss</th>\n",
       "    </tr>\n",
       "  </thead>\n",
       "  <tbody>\n",
       "    <tr>\n",
       "      <td>1</td>\n",
       "      <td>No log</td>\n",
       "      <td>3.765067</td>\n",
       "    </tr>\n",
       "    <tr>\n",
       "      <td>2</td>\n",
       "      <td>No log</td>\n",
       "      <td>3.765204</td>\n",
       "    </tr>\n",
       "    <tr>\n",
       "      <td>3</td>\n",
       "      <td>No log</td>\n",
       "      <td>3.764621</td>\n",
       "    </tr>\n",
       "    <tr>\n",
       "      <td>4</td>\n",
       "      <td>No log</td>\n",
       "      <td>3.762946</td>\n",
       "    </tr>\n",
       "    <tr>\n",
       "      <td>5</td>\n",
       "      <td>8.696100</td>\n",
       "      <td>3.758950</td>\n",
       "    </tr>\n",
       "  </tbody>\n",
       "</table><p>"
      ],
      "text/plain": [
       "<IPython.core.display.HTML object>"
      ]
     },
     "metadata": {},
     "output_type": "display_data"
    },
    {
     "data": {
      "text/plain": [
       "TrainOutput(global_step=10, training_loss=8.696096801757813, metrics={'train_runtime': 55.7341, 'train_samples_per_second': 0.538, 'train_steps_per_second': 0.179, 'total_flos': 6965255208960.0, 'train_loss': 8.696096801757813, 'epoch': 5.0})"
      ]
     },
     "execution_count": 11,
     "metadata": {},
     "output_type": "execute_result"
    }
   ],
   "source": [
    "# Fine-Tuning the model\n",
    "# =================================\n",
    "# Load the DialoGPT model\n",
    "model = AutoModelForCausalLM.from_pretrained(\"microsoft/DialoGPT-medium\")\n",
    "\n",
    "# Define training arguments\n",
    "training_args = TrainingArguments(\n",
    "    output_dir='./results',          # output directory\n",
    "    num_train_epochs=5,              # total number of training epochs\n",
    "    per_device_train_batch_size=4,   # batch size for training\n",
    "    per_device_eval_batch_size=4,    # batch size for evaluation\n",
    "    warmup_steps=200,                # number of warmup steps for learning rate scheduler\n",
    "    weight_decay=0.01,               # strength of weight decay\n",
    "    logging_dir='./logs',            # directory for storing logs\n",
    "    logging_steps=10,\n",
    "    learning_rate=3e-5,              # set a lower learning rate\n",
    "    evaluation_strategy=\"epoch\",     # evaluate at the end of each epoch\n",
    ")\n",
    "\n",
    "# Initialize Trainer\n",
    "trainer = Trainer(\n",
    "    model=model,                         # the instantiated 🤗 Transformers model to be trained\n",
    "    args=training_args,                  # training arguments, defined above\n",
    "    train_dataset=tokenized_train_dataset,  # training dataset\n",
    "    eval_dataset=tokenized_val_dataset     # evaluation dataset\n",
    ")\n",
    "\n",
    "# Start training\n",
    "trainer.train()"
   ]
  },
  {
   "cell_type": "code",
   "execution_count": 12,
   "id": "b3de76b2-c8ad-4afe-8921-4a3d61e0217f",
   "metadata": {},
   "outputs": [
    {
     "data": {
      "text/plain": [
       "('LLM_MODELS/fine-tuned-dialoGPT/tokenizer_config.json',\n",
       " 'LLM_MODELS/fine-tuned-dialoGPT/special_tokens_map.json',\n",
       " 'LLM_MODELS/fine-tuned-dialoGPT/vocab.json',\n",
       " 'LLM_MODELS/fine-tuned-dialoGPT/merges.txt',\n",
       " 'LLM_MODELS/fine-tuned-dialoGPT/added_tokens.json',\n",
       " 'LLM_MODELS/fine-tuned-dialoGPT/tokenizer.json')"
      ]
     },
     "execution_count": 12,
     "metadata": {},
     "output_type": "execute_result"
    }
   ],
   "source": [
    "model.save_pretrained('LLM_MODELS/fine-tuned-dialoGPT')\n",
    "tokenizer.save_pretrained('LLM_MODELS/fine-tuned-dialoGPT')"
   ]
  },
  {
   "cell_type": "code",
   "execution_count": 16,
   "id": "1282da5d-6714-4a29-8da1-5ffeb0cd9edd",
   "metadata": {},
   "outputs": [],
   "source": [
    "# Load the fine-tuned model and tokenizer\n",
    "model = AutoModelForCausalLM.from_pretrained('LLM_MODELS/fine-tuned-dialoGPT')\n",
    "tokenizer = AutoTokenizer.from_pretrained('LLM_MODELS/fine-tuned-dialoGPT')"
   ]
  },
  {
   "cell_type": "code",
   "execution_count": 2,
   "id": "64e915f3-0b0a-4486-b986-503c37684a4a",
   "metadata": {},
   "outputs": [
    {
     "name": "stderr",
     "output_type": "stream",
     "text": [
      "The attention mask is not set and cannot be inferred from input because pad token is same as eos token.As a consequence, you may observe unexpected behavior. Please pass your input's `attention_mask` to obtain reliable results.\n"
     ]
    },
    {
     "name": "stdout",
     "output_type": "stream",
     "text": [
      "Hello! :D\n",
      "I'm good, how are you?\n",
      "message me your info and list\n"
     ]
    }
   ],
   "source": [
    "tokenizer = AutoTokenizer.from_pretrained(\"LLM_MODELS/fine-tuned-dialoGPT/\") # saved Tokenizer\n",
    "model = AutoModelForCausalLM.from_pretrained(\"LLM_MODELS//fine-tuned-dialoGPT/\") # saved Model\n",
    "\n",
    "def generate_chit_chat_response(query):\n",
    "    # Encoding the input\n",
    "    input_ids = tokenizer.encode(query + tokenizer.eos_token, return_tensors='pt')\n",
    "    # Generate the response\n",
    "    response_ids = model.generate(input_ids, max_length=1000, pad_token_id=tokenizer.eos_token_id)\n",
    "    # Decode the generated response\n",
    "    response = tokenizer.decode(response_ids[:, input_ids.shape[-1]:][0], skip_special_tokens=True)\n",
    "    return response\n",
    "\n",
    "# Test the model \n",
    "print(generate_chit_chat_response(\"Hello\"))\n",
    "print(generate_chit_chat_response(\"how are you?\"))\n",
    "print(generate_chit_chat_response(\"can you help me?\"))"
   ]
  },
  {
   "cell_type": "code",
   "execution_count": null,
   "id": "6af90505-5943-49d4-bf2f-64f60630d944",
   "metadata": {},
   "outputs": [],
   "source": []
  }
 ],
 "metadata": {
  "kernelspec": {
   "display_name": "Python 3 (ipykernel)",
   "language": "python",
   "name": "python3"
  },
  "language_info": {
   "codemirror_mode": {
    "name": "ipython",
    "version": 3
   },
   "file_extension": ".py",
   "mimetype": "text/x-python",
   "name": "python",
   "nbconvert_exporter": "python",
   "pygments_lexer": "ipython3",
   "version": "3.11.9"
  }
 },
 "nbformat": 4,
 "nbformat_minor": 5
}
